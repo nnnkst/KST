{
  "nbformat": 4,
  "nbformat_minor": 0,
  "metadata": {
    "colab": {
      "name": "Euler50.ipynb",
      "provenance": [],
      "collapsed_sections": [],
      "authorship_tag": "ABX9TyN+SUgjFJRL7EZ5wSJ3CtK3",
      "include_colab_link": true
    },
    "kernelspec": {
      "name": "python3",
      "display_name": "Python 3"
    },
    "language_info": {
      "name": "python"
    }
  },
  "cells": [
    {
      "cell_type": "markdown",
      "metadata": {
        "id": "view-in-github",
        "colab_type": "text"
      },
      "source": [
        "<a href=\"https://colab.research.google.com/github/nnnkst/KST/blob/master/Euler50.ipynb\" target=\"_parent\"><img src=\"https://colab.research.google.com/assets/colab-badge.svg\" alt=\"Open In Colab\"/></a>"
      ]
    },
    {
      "cell_type": "code",
      "source": [
        "import timeit"
      ],
      "metadata": {
        "id": "npraYdONx4r5"
      },
      "execution_count": null,
      "outputs": []
    },
    {
      "cell_type": "code",
      "execution_count": null,
      "metadata": {
        "id": "ShHgjLIns5XU"
      },
      "outputs": [],
      "source": [
        "def primeSieve(n):\n",
        "  prime = [True]*(n+1)\n",
        "  for i in range(2,n+1):\n",
        "    if(prime[i]):\n",
        "      for j in range(i*i,n+1,i):\n",
        "        prime[j] = False\n",
        "  prime[0] = False\n",
        "  prime[1] = False\n",
        "  return prime      "
      ]
    },
    {
      "cell_type": "code",
      "source": [
        "def primeList(n):\n",
        "  pList = []\n",
        "  q = primeSieve(n+1)\n",
        "  for i in range(n+1):\n",
        "    if(q[i]):\n",
        "      pList.append(i)\n",
        "  return pList"
      ],
      "metadata": {
        "id": "ySkniE4jzDsD"
      },
      "execution_count": null,
      "outputs": []
    },
    {
      "cell_type": "code",
      "source": [
        "start = timeit.default_timer()\n",
        "q = primeSieve(1000000000000)\n",
        "for i in range(1000000000000):\n",
        "  if(q[i]):\n",
        "    pass\n",
        "end = timeit.default_timer()\n",
        "print(\"Total Time Elapsed = \", end - start)"
      ],
      "metadata": {
        "id": "pImoe_Ohs-OV"
      },
      "execution_count": null,
      "outputs": []
    },
    {
      "cell_type": "code",
      "source": [
        "n = 1000001"
      ],
      "metadata": {
        "id": "CzjBV0tSxfYU"
      },
      "execution_count": null,
      "outputs": []
    },
    {
      "cell_type": "code",
      "source": [],
      "metadata": {
        "id": "RfnwpeCCzqpW"
      },
      "execution_count": null,
      "outputs": []
    },
    {
      "cell_type": "code",
      "source": [],
      "metadata": {
        "id": "R2-51Bc8zsdI"
      },
      "execution_count": null,
      "outputs": []
    }
  ]
}